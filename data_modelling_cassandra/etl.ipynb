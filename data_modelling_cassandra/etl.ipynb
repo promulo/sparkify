{
 "cells": [
  {
   "cell_type": "markdown",
   "metadata": {},
   "source": [
    "# Part I. ETL Pipeline for Pre-Processing the Files"
   ]
  },
  {
   "cell_type": "markdown",
   "metadata": {},
   "source": [
    "## PLEASE RUN THE FOLLOWING CODE FOR PRE-PROCESSING THE FILES"
   ]
  },
  {
   "cell_type": "code",
   "execution_count": null,
   "metadata": {},
   "outputs": [],
   "source": [
    "import csv\n",
    "import glob\n",
    "import json\n",
    "import os\n",
    "import re\n",
    "from pathlib import Path\n",
    "\n",
    "import cassandra\n",
    "import numpy as np\n",
    "import pandas as pd"
   ]
  },
  {
   "cell_type": "markdown",
   "metadata": {},
   "source": [
    "#### Creating list of filepaths to process original event csv data files"
   ]
  },
  {
   "cell_type": "code",
   "execution_count": null,
   "metadata": {},
   "outputs": [],
   "source": [
    "dataset_path = Path.cwd() / 'event_data'\n",
    "for root, _, _ in os.walk(dataset_path):    \n",
    "    dataset_files = sorted(Path(root).glob('*.csv'))"
   ]
  },
  {
   "source": [
    "#### Processing the files to create the data file csv that will be used for Apache Casssandra tables"
   ],
   "cell_type": "markdown",
   "metadata": {}
  },
  {
   "cell_type": "code",
   "execution_count": null,
   "metadata": {
    "tags": []
   },
   "outputs": [],
   "source": [
    "full_data_rows_list = []\n",
    "for f in dataset_files:\n",
    "    with open(f, 'r', encoding='utf8', newline='') as csv_file: \n",
    "        csv_reader = csv.reader(csv_file)         \n",
    "        next(csv_reader) # skips CSV header line\n",
    "        for line in csv_reader:\n",
    "            full_data_rows_list.append(line) \n",
    "\n",
    "csv.register_dialect('events', quoting=csv.QUOTE_ALL, skipinitialspace=True)\n",
    "# here we join all complete rows from the separate CSVs into one single CSV file\n",
    "with open('event_datafile_new.csv', 'w', encoding='utf8', newline='') as f:\n",
    "    writer = csv.writer(f, dialect='events')\n",
    "    writer.writerow([\n",
    "        'artist',\n",
    "        'firstName',\n",
    "        'gender',\n",
    "        'itemInSession',\n",
    "        'lastName',\n",
    "        'length',\n",
    "        'level',\n",
    "        'location',\n",
    "        'sessionId',\n",
    "        'song',\n",
    "        'userId'\n",
    "    ])\n",
    "    for row in full_data_rows_list:\n",
    "        if (row[0] == ''):\n",
    "            continue\n",
    "        writer.writerow((\n",
    "            row[0], row[2], row[3], row[4], row[5], row[6], row[7], row[8], row[12], row[13], row[16]))\n"
   ]
  },
  {
   "cell_type": "code",
   "execution_count": null,
   "metadata": {},
   "outputs": [],
   "source": [
    "with open('event_datafile_new.csv', 'r', encoding='utf8') as f:\n",
    "    print(sum(1 for line in f))"
   ]
  },
  {
   "cell_type": "markdown",
   "metadata": {},
   "source": [
    "# Part II. Complete the Apache Cassandra coding portion of your project. \n",
    "\n",
    "## Now you are ready to work with the CSV file titled <font color=red>event_datafile_new.csv</font>, located within the Workspace directory.  The event_datafile_new.csv contains the following columns: \n",
    "- artist \n",
    "- firstName of user\n",
    "- gender of user\n",
    "- item number in session\n",
    "- last name of user\n",
    "- length of the song\n",
    "- level (paid or free song)\n",
    "- location of the user\n",
    "- sessionId\n",
    "- song title\n",
    "- userId\n",
    "\n",
    "The image below is a screenshot of what the denormalized data should appear like in the <font color=red>**event_datafile_new.csv**</font> after the code above is run:<br>\n",
    "\n",
    "<img src=\"images/image_event_datafile_new.jpg\">"
   ]
  },
  {
   "cell_type": "code",
   "execution_count": null,
   "metadata": {},
   "outputs": [],
   "source": [
    "from cassandra.cluster import Cluster\n",
    "\n",
    "cluster = Cluster()\n",
    "session = cluster.connect()"
   ]
  },
  {
   "cell_type": "code",
   "execution_count": null,
   "metadata": {},
   "outputs": [],
   "source": [
    "create_keyspace_query = \"\"\"\n",
    "CREATE KEYSPACE IF NOT EXISTS sparkify\n",
    "    WITH REPLICATION = { \n",
    "        'class' : 'SimpleStrategy', \n",
    "        'replication_factor' : 1 \n",
    "    };\n",
    "\"\"\"\n",
    "session.execute(create_keyspace_query)"
   ]
  },
  {
   "cell_type": "code",
   "execution_count": null,
   "metadata": {},
   "outputs": [],
   "source": [
    "session.set_keyspace('sparkify')\n"
   ]
  },
  {
   "cell_type": "code",
   "execution_count": null,
   "metadata": {},
   "outputs": [],
   "source": [
    "create_table_01 = \"\"\"\n",
    "CREATE TABLE IF NOT EXISTS songplay_events_by_session (\n",
    "    session_id INT,\n",
    "    session_item INT,\n",
    "    artist_name TEXT,\n",
    "    song_title TEXT,\n",
    "    song_length FLOAT,\n",
    "    user_id INT,\n",
    "    user_first_name TEXT,\n",
    "    user_last_name TEXT,\n",
    "    user_gender TEXT,\n",
    "    user_location TEXT,\n",
    "    user_plan TEXT,\n",
    "    PRIMARY KEY ((session_id), session_item, user_id)\n",
    ");\n",
    "\"\"\"\n",
    "session.execute(create_table_01)\n",
    "\n",
    "create_table_02 = \"\"\"\n",
    "CREATE TABLE IF NOT EXISTS songplay_events_by_user (\n",
    "    session_id INT,\n",
    "    session_item INT,\n",
    "    artist_name TEXT,\n",
    "    song_title TEXT,\n",
    "    song_length FLOAT,\n",
    "    user_id INT,\n",
    "    user_full_name TEXT,\n",
    "    user_gender TEXT,\n",
    "    user_location TEXT,\n",
    "    user_plan TEXT,\n",
    "    PRIMARY KEY ((user_id), session_id, session_item)\n",
    ");\n",
    "\"\"\"\n",
    "session.execute(create_table_02)\n",
    "\n",
    "create_table_03 = \"\"\"\n",
    "CREATE TABLE IF NOT EXISTS songplay_events_by_song (\n",
    "    session_id INT,\n",
    "    session_item INT,\n",
    "    artist_name TEXT,\n",
    "    song_title TEXT,\n",
    "    song_length FLOAT,\n",
    "    user_id INT,\n",
    "    user_full_name TEXT,\n",
    "    user_gender TEXT,\n",
    "    user_location TEXT,\n",
    "    user_plan TEXT,\n",
    "    PRIMARY KEY ((song_title), session_id, session_item, user_id)\n",
    ");\n",
    "\"\"\"\n",
    "session.execute(create_table_03)"
   ]
  },
  {
   "cell_type": "code",
   "execution_count": null,
   "metadata": {
    "scrolled": false
   },
   "outputs": [],
   "source": [
    "filename = 'event_datafile_new.csv'\n",
    "\n",
    "insert_query = \"\"\"\n",
    "INSERT INTO songplay_events_by_session (\n",
    "    session_id, \n",
    "    session_item, \n",
    "    artist_name, \n",
    "    song_title, \n",
    "    song_length, \n",
    "    user_id, \n",
    "    user_first_name, \n",
    "    user_last_name, \n",
    "    user_gender, \n",
    "    user_location, \n",
    "    user_plan\n",
    ")\n",
    "VALUES (?, ?, ?, ?, ?, ?, ?, ?, ?, ?, ?);\n",
    "\"\"\"\n",
    "insert_stmt_table_01 = session.prepare(insert_query)\n",
    "\n",
    "insert_query = \"\"\"\n",
    "INSERT INTO {} (\n",
    "    session_id, \n",
    "    session_item, \n",
    "    artist_name, \n",
    "    song_title, \n",
    "    song_length, \n",
    "    user_id, \n",
    "    user_full_name, \n",
    "    user_gender, \n",
    "    user_location, \n",
    "    user_plan\n",
    ")\n",
    "VALUES (?, ?, ?, ?, ?, ?, ?, ?, ?, ?);\n",
    "\"\"\"\n",
    "insert_stmt_table_02 = session.prepare(insert_query.format('songplay_events_by_user'))\n",
    "insert_stmt_table_03 = session.prepare(insert_query.format('songplay_events_by_song'))\n",
    "\n",
    "with open(filename, encoding='utf8') as f:\n",
    "    csv_reader = csv.reader(f)\n",
    "    next(csv_reader) # skips CSV header line\n",
    "    for line in csv_reader:\n",
    "        row = [\n",
    "            int(line[8]), \n",
    "            int(line[3]), \n",
    "            line[0], \n",
    "            line[9], \n",
    "            float(line[5]), \n",
    "            int(line[10]), \n",
    "            line[1], \n",
    "            line[4], \n",
    "            line[2], \n",
    "            line[7], \n",
    "            line[6]\n",
    "        ]\n",
    "        session.execute(insert_stmt_table_01, row)\n",
    "        # tables 02 and 03 have a slightly different schema\n",
    "        row = [\n",
    "            int(line[8]), \n",
    "            int(line[3]), \n",
    "            line[0], \n",
    "            line[9], \n",
    "            float(line[5]), \n",
    "            int(line[10]), \n",
    "            '{} {}'.format(line[1], line[4]), # first and last name\n",
    "            line[2], \n",
    "            line[7], \n",
    "            line[6]\n",
    "        ]\n",
    "        session.execute(insert_stmt_table_02, row)\n",
    "        session.execute(insert_stmt_table_03, row)"
   ]
  },
  {
   "cell_type": "code",
   "execution_count": null,
   "metadata": {
    "scrolled": true,
    "tags": []
   },
   "outputs": [],
   "source": [
    "# result = session.execute('SELECT COUNT(*) FROM songplay_events_by_session;') # bad\n",
    "# print(result.one().count)\n",
    "\n",
    "# result = session.execute('SELECT COUNT(*) FROM songplay_events_by_user;') # bad\n",
    "# print(result.one().count)\n",
    "\n",
    "# result = session.execute('SELECT COUNT(*) FROM songplay_events_by_song;') # bad\n",
    "# print(result.one().count)\n"
   ]
  },
  {
   "cell_type": "code",
   "execution_count": null,
   "metadata": {},
   "outputs": [],
   "source": [
    "query_01 = \"\"\"\n",
    "SELECT artist_name, song_title, song_length\n",
    "FROM songplay_events_by_session\n",
    "WHERE session_id = ? AND session_item = ?;\n",
    "\"\"\"\n",
    "query_01_stmt = session.prepare(query_01)\n",
    "result = session.execute(query_01_stmt, [338, 4])\n",
    "row = result.one()\n",
    "print('artist: {}\\nsong: {}\\nlength: {:.2f}\\n'.format(row.artist_name, row.song_title, row.song_length))\n"
   ]
  },
  {
   "cell_type": "code",
   "execution_count": null,
   "metadata": {},
   "outputs": [],
   "source": [
    "query_02 = \"\"\"\n",
    "SELECT artist_name, song_title, user_full_name\n",
    "FROM songplay_events_by_user\n",
    "WHERE user_id = ? AND session_id = ?;\n",
    "\"\"\"\n",
    "query_02_stmt = session.prepare(query_02)\n",
    "result = session.execute(query_02_stmt, [10, 182])\n",
    "rows = result.all()\n",
    "for row in rows:\n",
    "    print('artist: {}\\nsong: {}\\nuser: {}\\n'.format(row.artist_name, row.song_title, row.user_full_name))      "
   ]
  },
  {
   "cell_type": "code",
   "execution_count": null,
   "metadata": {},
   "outputs": [],
   "source": [
    "query_03 = \"\"\"\n",
    "SELECT user_full_name \n",
    "FROM songplay_events_by_song\n",
    "WHERE song_title = ?;\n",
    "\"\"\"\n",
    "query_03_stmt = session.prepare(query_03)\n",
    "result = session.execute(query_03_stmt, ['All Hands Against His Own'])\n",
    "rows = result.all()\n",
    "for row in rows:\n",
    "    print('{}\\n'.format(row.user_full_name)) "
   ]
  },
  {
   "cell_type": "code",
   "execution_count": null,
   "metadata": {},
   "outputs": [],
   "source": [
    "# NOTE: This is an alternative version of table 03 using a materialized view (experimental)\n",
    "create_view = \"\"\"\n",
    "CREATE MATERIALIZED VIEW IF NOT EXISTS songplay_events_by_song_mv AS \n",
    "    SELECT song_title, artist_name, user_id, user_full_name, session_id, session_item \n",
    "    FROM songplay_events_by_user \n",
    "    WHERE song_title IS NOT NULL AND session_id IS NOT NULL AND session_item IS NOT NULL AND user_id IS NOT NULL\n",
    "    PRIMARY KEY ((song_title), user_id, session_id, session_item);\n",
    "\"\"\"\n",
    "session.execute(create_view)                "
   ]
  },
  {
   "cell_type": "code",
   "execution_count": null,
   "metadata": {},
   "outputs": [],
   "source": [
    "query_03_alt = \"\"\"\n",
    "SELECT user_full_name \n",
    "FROM songplay_events_by_song_mv\n",
    "WHERE song_title = ?;\n",
    "\"\"\"\n",
    "query_03_stmt = session.prepare(query_03_alt)\n",
    "result = session.execute(query_03_stmt, ['All Hands Against His Own'])\n",
    "rows = result.all()\n",
    "for row in rows:\n",
    "    print('{}\\n'.format(row.user_full_name)) "
   ]
  },
  {
   "cell_type": "code",
   "execution_count": 36,
   "metadata": {},
   "outputs": [],
   "source": [
    "drop_stmt = [\n",
    "    'DROP TABLE IF EXISTS songplay_events_by_session;',    \n",
    "    'DROP TABLE IF EXISTS songplay_events_by_song;',\n",
    "    'DROP MATERIALIZED VIEW IF EXISTS songplay_events_by_song_mv;',\n",
    "    'DROP TABLE IF EXISTS songplay_events_by_user;'\n",
    "]\n",
    "for stmt in drop_stmt:\n",
    "    session.execute(stmt)"
   ]
  },
  {
   "cell_type": "code",
   "execution_count": 37,
   "metadata": {},
   "outputs": [],
   "source": [
    "session.shutdown()\n",
    "cluster.shutdown()"
   ]
  },
  {
   "cell_type": "code",
   "execution_count": null,
   "metadata": {},
   "outputs": [],
   "source": []
  }
 ],
 "metadata": {
  "kernelspec": {
   "display_name": "Python 3",
   "language": "python",
   "name": "python3"
  },
  "language_info": {
   "codemirror_mode": {
    "name": "ipython",
    "version": 3
   },
   "file_extension": ".py",
   "mimetype": "text/x-python",
   "name": "python",
   "nbconvert_exporter": "python",
   "pygments_lexer": "ipython3",
   "version": "3.8.5-final"
  }
 },
 "nbformat": 4,
 "nbformat_minor": 2
}